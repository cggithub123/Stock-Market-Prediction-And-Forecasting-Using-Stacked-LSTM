{
  "nbformat": 4,
  "nbformat_minor": 0,
  "metadata": {
    "colab": {
      "name": "2NDTASK.ipynb",
      "provenance": [],
      "collapsed_sections": []
    },
    "kernelspec": {
      "name": "python3",
      "display_name": "Python 3"
    },
    "language_info": {
      "name": "python"
    }
  },
  "cells": [
    {
      "cell_type": "code",
      "metadata": {
        "colab": {
          "resources": {
            "http://localhost:8080/nbextensions/google.colab/files.js": {
              "data": "Ly8gQ29weXJpZ2h0IDIwMTcgR29vZ2xlIExMQwovLwovLyBMaWNlbnNlZCB1bmRlciB0aGUgQXBhY2hlIExpY2Vuc2UsIFZlcnNpb24gMi4wICh0aGUgIkxpY2Vuc2UiKTsKLy8geW91IG1heSBub3QgdXNlIHRoaXMgZmlsZSBleGNlcHQgaW4gY29tcGxpYW5jZSB3aXRoIHRoZSBMaWNlbnNlLgovLyBZb3UgbWF5IG9idGFpbiBhIGNvcHkgb2YgdGhlIExpY2Vuc2UgYXQKLy8KLy8gICAgICBodHRwOi8vd3d3LmFwYWNoZS5vcmcvbGljZW5zZXMvTElDRU5TRS0yLjAKLy8KLy8gVW5sZXNzIHJlcXVpcmVkIGJ5IGFwcGxpY2FibGUgbGF3IG9yIGFncmVlZCB0byBpbiB3cml0aW5nLCBzb2Z0d2FyZQovLyBkaXN0cmlidXRlZCB1bmRlciB0aGUgTGljZW5zZSBpcyBkaXN0cmlidXRlZCBvbiBhbiAiQVMgSVMiIEJBU0lTLAovLyBXSVRIT1VUIFdBUlJBTlRJRVMgT1IgQ09ORElUSU9OUyBPRiBBTlkgS0lORCwgZWl0aGVyIGV4cHJlc3Mgb3IgaW1wbGllZC4KLy8gU2VlIHRoZSBMaWNlbnNlIGZvciB0aGUgc3BlY2lmaWMgbGFuZ3VhZ2UgZ292ZXJuaW5nIHBlcm1pc3Npb25zIGFuZAovLyBsaW1pdGF0aW9ucyB1bmRlciB0aGUgTGljZW5zZS4KCi8qKgogKiBAZmlsZW92ZXJ2aWV3IEhlbHBlcnMgZm9yIGdvb2dsZS5jb2xhYiBQeXRob24gbW9kdWxlLgogKi8KKGZ1bmN0aW9uKHNjb3BlKSB7CmZ1bmN0aW9uIHNwYW4odGV4dCwgc3R5bGVBdHRyaWJ1dGVzID0ge30pIHsKICBjb25zdCBlbGVtZW50ID0gZG9jdW1lbnQuY3JlYXRlRWxlbWVudCgnc3BhbicpOwogIGVsZW1lbnQudGV4dENvbnRlbnQgPSB0ZXh0OwogIGZvciAoY29uc3Qga2V5IG9mIE9iamVjdC5rZXlzKHN0eWxlQXR0cmlidXRlcykpIHsKICAgIGVsZW1lbnQuc3R5bGVba2V5XSA9IHN0eWxlQXR0cmlidXRlc1trZXldOwogIH0KICByZXR1cm4gZWxlbWVudDsKfQoKLy8gTWF4IG51bWJlciBvZiBieXRlcyB3aGljaCB3aWxsIGJlIHVwbG9hZGVkIGF0IGEgdGltZS4KY29uc3QgTUFYX1BBWUxPQURfU0laRSA9IDEwMCAqIDEwMjQ7CgpmdW5jdGlvbiBfdXBsb2FkRmlsZXMoaW5wdXRJZCwgb3V0cHV0SWQpIHsKICBjb25zdCBzdGVwcyA9IHVwbG9hZEZpbGVzU3RlcChpbnB1dElkLCBvdXRwdXRJZCk7CiAgY29uc3Qgb3V0cHV0RWxlbWVudCA9IGRvY3VtZW50LmdldEVsZW1lbnRCeUlkKG91dHB1dElkKTsKICAvLyBDYWNoZSBzdGVwcyBvbiB0aGUgb3V0cHV0RWxlbWVudCB0byBtYWtlIGl0IGF2YWlsYWJsZSBmb3IgdGhlIG5leHQgY2FsbAogIC8vIHRvIHVwbG9hZEZpbGVzQ29udGludWUgZnJvbSBQeXRob24uCiAgb3V0cHV0RWxlbWVudC5zdGVwcyA9IHN0ZXBzOwoKICByZXR1cm4gX3VwbG9hZEZpbGVzQ29udGludWUob3V0cHV0SWQpOwp9CgovLyBUaGlzIGlzIHJvdWdobHkgYW4gYXN5bmMgZ2VuZXJhdG9yIChub3Qgc3VwcG9ydGVkIGluIHRoZSBicm93c2VyIHlldCksCi8vIHdoZXJlIHRoZXJlIGFyZSBtdWx0aXBsZSBhc3luY2hyb25vdXMgc3RlcHMgYW5kIHRoZSBQeXRob24gc2lkZSBpcyBnb2luZwovLyB0byBwb2xsIGZvciBjb21wbGV0aW9uIG9mIGVhY2ggc3RlcC4KLy8gVGhpcyB1c2VzIGEgUHJvbWlzZSB0byBibG9jayB0aGUgcHl0aG9uIHNpZGUgb24gY29tcGxldGlvbiBvZiBlYWNoIHN0ZXAsCi8vIHRoZW4gcGFzc2VzIHRoZSByZXN1bHQgb2YgdGhlIHByZXZpb3VzIHN0ZXAgYXMgdGhlIGlucHV0IHRvIHRoZSBuZXh0IHN0ZXAuCmZ1bmN0aW9uIF91cGxvYWRGaWxlc0NvbnRpbnVlKG91dHB1dElkKSB7CiAgY29uc3Qgb3V0cHV0RWxlbWVudCA9IGRvY3VtZW50LmdldEVsZW1lbnRCeUlkKG91dHB1dElkKTsKICBjb25zdCBzdGVwcyA9IG91dHB1dEVsZW1lbnQuc3RlcHM7CgogIGNvbnN0IG5leHQgPSBzdGVwcy5uZXh0KG91dHB1dEVsZW1lbnQubGFzdFByb21pc2VWYWx1ZSk7CiAgcmV0dXJuIFByb21pc2UucmVzb2x2ZShuZXh0LnZhbHVlLnByb21pc2UpLnRoZW4oKHZhbHVlKSA9PiB7CiAgICAvLyBDYWNoZSB0aGUgbGFzdCBwcm9taXNlIHZhbHVlIHRvIG1ha2UgaXQgYXZhaWxhYmxlIHRvIHRoZSBuZXh0CiAgICAvLyBzdGVwIG9mIHRoZSBnZW5lcmF0b3IuCiAgICBvdXRwdXRFbGVtZW50Lmxhc3RQcm9taXNlVmFsdWUgPSB2YWx1ZTsKICAgIHJldHVybiBuZXh0LnZhbHVlLnJlc3BvbnNlOwogIH0pOwp9CgovKioKICogR2VuZXJhdG9yIGZ1bmN0aW9uIHdoaWNoIGlzIGNhbGxlZCBiZXR3ZWVuIGVhY2ggYXN5bmMgc3RlcCBvZiB0aGUgdXBsb2FkCiAqIHByb2Nlc3MuCiAqIEBwYXJhbSB7c3RyaW5nfSBpbnB1dElkIEVsZW1lbnQgSUQgb2YgdGhlIGlucHV0IGZpbGUgcGlja2VyIGVsZW1lbnQuCiAqIEBwYXJhbSB7c3RyaW5nfSBvdXRwdXRJZCBFbGVtZW50IElEIG9mIHRoZSBvdXRwdXQgZGlzcGxheS4KICogQHJldHVybiB7IUl0ZXJhYmxlPCFPYmplY3Q+fSBJdGVyYWJsZSBvZiBuZXh0IHN0ZXBzLgogKi8KZnVuY3Rpb24qIHVwbG9hZEZpbGVzU3RlcChpbnB1dElkLCBvdXRwdXRJZCkgewogIGNvbnN0IGlucHV0RWxlbWVudCA9IGRvY3VtZW50LmdldEVsZW1lbnRCeUlkKGlucHV0SWQpOwogIGlucHV0RWxlbWVudC5kaXNhYmxlZCA9IGZhbHNlOwoKICBjb25zdCBvdXRwdXRFbGVtZW50ID0gZG9jdW1lbnQuZ2V0RWxlbWVudEJ5SWQob3V0cHV0SWQpOwogIG91dHB1dEVsZW1lbnQuaW5uZXJIVE1MID0gJyc7CgogIGNvbnN0IHBpY2tlZFByb21pc2UgPSBuZXcgUHJvbWlzZSgocmVzb2x2ZSkgPT4gewogICAgaW5wdXRFbGVtZW50LmFkZEV2ZW50TGlzdGVuZXIoJ2NoYW5nZScsIChlKSA9PiB7CiAgICAgIHJlc29sdmUoZS50YXJnZXQuZmlsZXMpOwogICAgfSk7CiAgfSk7CgogIGNvbnN0IGNhbmNlbCA9IGRvY3VtZW50LmNyZWF0ZUVsZW1lbnQoJ2J1dHRvbicpOwogIGlucHV0RWxlbWVudC5wYXJlbnRFbGVtZW50LmFwcGVuZENoaWxkKGNhbmNlbCk7CiAgY2FuY2VsLnRleHRDb250ZW50ID0gJ0NhbmNlbCB1cGxvYWQnOwogIGNvbnN0IGNhbmNlbFByb21pc2UgPSBuZXcgUHJvbWlzZSgocmVzb2x2ZSkgPT4gewogICAgY2FuY2VsLm9uY2xpY2sgPSAoKSA9PiB7CiAgICAgIHJlc29sdmUobnVsbCk7CiAgICB9OwogIH0pOwoKICAvLyBXYWl0IGZvciB0aGUgdXNlciB0byBwaWNrIHRoZSBmaWxlcy4KICBjb25zdCBmaWxlcyA9IHlpZWxkIHsKICAgIHByb21pc2U6IFByb21pc2UucmFjZShbcGlja2VkUHJvbWlzZSwgY2FuY2VsUHJvbWlzZV0pLAogICAgcmVzcG9uc2U6IHsKICAgICAgYWN0aW9uOiAnc3RhcnRpbmcnLAogICAgfQogIH07CgogIGNhbmNlbC5yZW1vdmUoKTsKCiAgLy8gRGlzYWJsZSB0aGUgaW5wdXQgZWxlbWVudCBzaW5jZSBmdXJ0aGVyIHBpY2tzIGFyZSBub3QgYWxsb3dlZC4KICBpbnB1dEVsZW1lbnQuZGlzYWJsZWQgPSB0cnVlOwoKICBpZiAoIWZpbGVzKSB7CiAgICByZXR1cm4gewogICAgICByZXNwb25zZTogewogICAgICAgIGFjdGlvbjogJ2NvbXBsZXRlJywKICAgICAgfQogICAgfTsKICB9CgogIGZvciAoY29uc3QgZmlsZSBvZiBmaWxlcykgewogICAgY29uc3QgbGkgPSBkb2N1bWVudC5jcmVhdGVFbGVtZW50KCdsaScpOwogICAgbGkuYXBwZW5kKHNwYW4oZmlsZS5uYW1lLCB7Zm9udFdlaWdodDogJ2JvbGQnfSkpOwogICAgbGkuYXBwZW5kKHNwYW4oCiAgICAgICAgYCgke2ZpbGUudHlwZSB8fCAnbi9hJ30pIC0gJHtmaWxlLnNpemV9IGJ5dGVzLCBgICsKICAgICAgICBgbGFzdCBtb2RpZmllZDogJHsKICAgICAgICAgICAgZmlsZS5sYXN0TW9kaWZpZWREYXRlID8gZmlsZS5sYXN0TW9kaWZpZWREYXRlLnRvTG9jYWxlRGF0ZVN0cmluZygpIDoKICAgICAgICAgICAgICAgICAgICAgICAgICAgICAgICAgICAgJ24vYSd9IC0gYCkpOwogICAgY29uc3QgcGVyY2VudCA9IHNwYW4oJzAlIGRvbmUnKTsKICAgIGxpLmFwcGVuZENoaWxkKHBlcmNlbnQpOwoKICAgIG91dHB1dEVsZW1lbnQuYXBwZW5kQ2hpbGQobGkpOwoKICAgIGNvbnN0IGZpbGVEYXRhUHJvbWlzZSA9IG5ldyBQcm9taXNlKChyZXNvbHZlKSA9PiB7CiAgICAgIGNvbnN0IHJlYWRlciA9IG5ldyBGaWxlUmVhZGVyKCk7CiAgICAgIHJlYWRlci5vbmxvYWQgPSAoZSkgPT4gewogICAgICAgIHJlc29sdmUoZS50YXJnZXQucmVzdWx0KTsKICAgICAgfTsKICAgICAgcmVhZGVyLnJlYWRBc0FycmF5QnVmZmVyKGZpbGUpOwogICAgfSk7CiAgICAvLyBXYWl0IGZvciB0aGUgZGF0YSB0byBiZSByZWFkeS4KICAgIGxldCBmaWxlRGF0YSA9IHlpZWxkIHsKICAgICAgcHJvbWlzZTogZmlsZURhdGFQcm9taXNlLAogICAgICByZXNwb25zZTogewogICAgICAgIGFjdGlvbjogJ2NvbnRpbnVlJywKICAgICAgfQogICAgfTsKCiAgICAvLyBVc2UgYSBjaHVua2VkIHNlbmRpbmcgdG8gYXZvaWQgbWVzc2FnZSBzaXplIGxpbWl0cy4gU2VlIGIvNjIxMTU2NjAuCiAgICBsZXQgcG9zaXRpb24gPSAwOwogICAgZG8gewogICAgICBjb25zdCBsZW5ndGggPSBNYXRoLm1pbihmaWxlRGF0YS5ieXRlTGVuZ3RoIC0gcG9zaXRpb24sIE1BWF9QQVlMT0FEX1NJWkUpOwogICAgICBjb25zdCBjaHVuayA9IG5ldyBVaW50OEFycmF5KGZpbGVEYXRhLCBwb3NpdGlvbiwgbGVuZ3RoKTsKICAgICAgcG9zaXRpb24gKz0gbGVuZ3RoOwoKICAgICAgY29uc3QgYmFzZTY0ID0gYnRvYShTdHJpbmcuZnJvbUNoYXJDb2RlLmFwcGx5KG51bGwsIGNodW5rKSk7CiAgICAgIHlpZWxkIHsKICAgICAgICByZXNwb25zZTogewogICAgICAgICAgYWN0aW9uOiAnYXBwZW5kJywKICAgICAgICAgIGZpbGU6IGZpbGUubmFtZSwKICAgICAgICAgIGRhdGE6IGJhc2U2NCwKICAgICAgICB9LAogICAgICB9OwoKICAgICAgbGV0IHBlcmNlbnREb25lID0gZmlsZURhdGEuYnl0ZUxlbmd0aCA9PT0gMCA/CiAgICAgICAgICAxMDAgOgogICAgICAgICAgTWF0aC5yb3VuZCgocG9zaXRpb24gLyBmaWxlRGF0YS5ieXRlTGVuZ3RoKSAqIDEwMCk7CiAgICAgIHBlcmNlbnQudGV4dENvbnRlbnQgPSBgJHtwZXJjZW50RG9uZX0lIGRvbmVgOwoKICAgIH0gd2hpbGUgKHBvc2l0aW9uIDwgZmlsZURhdGEuYnl0ZUxlbmd0aCk7CiAgfQoKICAvLyBBbGwgZG9uZS4KICB5aWVsZCB7CiAgICByZXNwb25zZTogewogICAgICBhY3Rpb246ICdjb21wbGV0ZScsCiAgICB9CiAgfTsKfQoKc2NvcGUuZ29vZ2xlID0gc2NvcGUuZ29vZ2xlIHx8IHt9OwpzY29wZS5nb29nbGUuY29sYWIgPSBzY29wZS5nb29nbGUuY29sYWIgfHwge307CnNjb3BlLmdvb2dsZS5jb2xhYi5fZmlsZXMgPSB7CiAgX3VwbG9hZEZpbGVzLAogIF91cGxvYWRGaWxlc0NvbnRpbnVlLAp9Owp9KShzZWxmKTsK",
              "ok": true,
              "headers": [
                [
                  "content-type",
                  "application/javascript"
                ]
              ],
              "status": 200,
              "status_text": ""
            }
          },
          "base_uri": "https://localhost:8080/",
          "height": 73
        },
        "id": "vAYOLRPtGd7W",
        "outputId": "34e933f0-c5ad-4bb8-e55e-cdd86d29a455"
      },
      "source": [
        "from google.colab import files\n",
        "  \n",
        "  \n",
        "uploaded = files.upload()"
      ],
      "execution_count": 9,
      "outputs": [
        {
          "output_type": "display_data",
          "data": {
            "text/html": [
              "\n",
              "     <input type=\"file\" id=\"files-b24da1dc-6047-4c33-8510-c1bb1b435d3a\" name=\"files[]\" multiple disabled\n",
              "        style=\"border:none\" />\n",
              "     <output id=\"result-b24da1dc-6047-4c33-8510-c1bb1b435d3a\">\n",
              "      Upload widget is only available when the cell has been executed in the\n",
              "      current browser session. Please rerun this cell to enable.\n",
              "      </output>\n",
              "      <script src=\"/nbextensions/google.colab/files.js\"></script> "
            ],
            "text/plain": [
              "<IPython.core.display.HTML object>"
            ]
          },
          "metadata": {}
        },
        {
          "output_type": "stream",
          "name": "stdout",
          "text": [
            "Saving Reliance_Stock.csv to Reliance_Stock.csv\n"
          ]
        }
      ]
    },
    {
      "cell_type": "code",
      "metadata": {
        "id": "DWYA7Dz1ETtR"
      },
      "source": [
        "\n",
        "#Import necessary Libraries\n",
        "import pandas as pd\n",
        "import numpy as np\n",
        "import math\n",
        "import matplotlib.pyplot as plt\n",
        "from sklearn.preprocessing import MinMaxScaler\n",
        "from sklearn.metrics import mean_squared_error\n",
        "import tensorflow as tf\n",
        "from tensorflow.python.keras.models import Sequential\n",
        "from tensorflow.python.keras.layers import Dense\n",
        "from tensorflow.python.keras.layers import LSTM\n",
        "%matplotlib inline"
      ],
      "execution_count": 3,
      "outputs": []
    },
    {
      "cell_type": "code",
      "metadata": {
        "colab": {
          "base_uri": "https://localhost:8080/",
          "height": 203
        },
        "id": "npwhkYUcFDr3",
        "outputId": "89660f49-7301-4f05-98c1-1436180daff1"
      },
      "source": [
        "#Import the data and remove rows containing NAN values\n",
        "df = pd.read_csv('Reliance_Stock.csv')\n",
        "df = df.dropna()\n",
        "df.head()"
      ],
      "execution_count": 10,
      "outputs": [
        {
          "output_type": "execute_result",
          "data": {
            "text/html": [
              "<div>\n",
              "<style scoped>\n",
              "    .dataframe tbody tr th:only-of-type {\n",
              "        vertical-align: middle;\n",
              "    }\n",
              "\n",
              "    .dataframe tbody tr th {\n",
              "        vertical-align: top;\n",
              "    }\n",
              "\n",
              "    .dataframe thead th {\n",
              "        text-align: right;\n",
              "    }\n",
              "</style>\n",
              "<table border=\"1\" class=\"dataframe\">\n",
              "  <thead>\n",
              "    <tr style=\"text-align: right;\">\n",
              "      <th></th>\n",
              "      <th>Date</th>\n",
              "      <th>Open</th>\n",
              "      <th>High</th>\n",
              "      <th>Low</th>\n",
              "      <th>Close</th>\n",
              "      <th>Adj Close</th>\n",
              "      <th>Volume</th>\n",
              "    </tr>\n",
              "  </thead>\n",
              "  <tbody>\n",
              "    <tr>\n",
              "      <th>0</th>\n",
              "      <td>2015-06-08</td>\n",
              "      <td>449.142578</td>\n",
              "      <td>450.727539</td>\n",
              "      <td>437.403839</td>\n",
              "      <td>438.567810</td>\n",
              "      <td>422.947815</td>\n",
              "      <td>5005867.0</td>\n",
              "    </tr>\n",
              "    <tr>\n",
              "      <th>1</th>\n",
              "      <td>2015-06-09</td>\n",
              "      <td>437.626740</td>\n",
              "      <td>441.143402</td>\n",
              "      <td>434.555847</td>\n",
              "      <td>437.701019</td>\n",
              "      <td>422.111847</td>\n",
              "      <td>4224271.0</td>\n",
              "    </tr>\n",
              "    <tr>\n",
              "      <th>2</th>\n",
              "      <td>2015-06-10</td>\n",
              "      <td>438.840240</td>\n",
              "      <td>450.678009</td>\n",
              "      <td>438.344940</td>\n",
              "      <td>448.647278</td>\n",
              "      <td>432.668243</td>\n",
              "      <td>6234576.0</td>\n",
              "    </tr>\n",
              "    <tr>\n",
              "      <th>3</th>\n",
              "      <td>2015-06-11</td>\n",
              "      <td>448.746338</td>\n",
              "      <td>450.479889</td>\n",
              "      <td>432.723206</td>\n",
              "      <td>434.456787</td>\n",
              "      <td>418.983185</td>\n",
              "      <td>6773174.0</td>\n",
              "    </tr>\n",
              "    <tr>\n",
              "      <th>4</th>\n",
              "      <td>2015-06-12</td>\n",
              "      <td>435.373108</td>\n",
              "      <td>442.158783</td>\n",
              "      <td>435.001617</td>\n",
              "      <td>440.747162</td>\n",
              "      <td>425.049561</td>\n",
              "      <td>9942471.0</td>\n",
              "    </tr>\n",
              "  </tbody>\n",
              "</table>\n",
              "</div>"
            ],
            "text/plain": [
              "         Date        Open        High  ...       Close   Adj Close     Volume\n",
              "0  2015-06-08  449.142578  450.727539  ...  438.567810  422.947815  5005867.0\n",
              "1  2015-06-09  437.626740  441.143402  ...  437.701019  422.111847  4224271.0\n",
              "2  2015-06-10  438.840240  450.678009  ...  448.647278  432.668243  6234576.0\n",
              "3  2015-06-11  448.746338  450.479889  ...  434.456787  418.983185  6773174.0\n",
              "4  2015-06-12  435.373108  442.158783  ...  440.747162  425.049561  9942471.0\n",
              "\n",
              "[5 rows x 7 columns]"
            ]
          },
          "metadata": {},
          "execution_count": 10
        }
      ]
    },
    {
      "cell_type": "code",
      "metadata": {
        "colab": {
          "base_uri": "https://localhost:8080/",
          "height": 203
        },
        "id": "EE8KtAC7GcLZ",
        "outputId": "98289fa8-012c-405e-a156-6e99787812e7"
      },
      "source": [
        "df.tail()"
      ],
      "execution_count": 11,
      "outputs": [
        {
          "output_type": "execute_result",
          "data": {
            "text/html": [
              "<div>\n",
              "<style scoped>\n",
              "    .dataframe tbody tr th:only-of-type {\n",
              "        vertical-align: middle;\n",
              "    }\n",
              "\n",
              "    .dataframe tbody tr th {\n",
              "        vertical-align: top;\n",
              "    }\n",
              "\n",
              "    .dataframe thead th {\n",
              "        text-align: right;\n",
              "    }\n",
              "</style>\n",
              "<table border=\"1\" class=\"dataframe\">\n",
              "  <thead>\n",
              "    <tr style=\"text-align: right;\">\n",
              "      <th></th>\n",
              "      <th>Date</th>\n",
              "      <th>Open</th>\n",
              "      <th>High</th>\n",
              "      <th>Low</th>\n",
              "      <th>Close</th>\n",
              "      <th>Adj Close</th>\n",
              "      <th>Volume</th>\n",
              "    </tr>\n",
              "  </thead>\n",
              "  <tbody>\n",
              "    <tr>\n",
              "      <th>1224</th>\n",
              "      <td>2020-06-01</td>\n",
              "      <td>1480.0</td>\n",
              "      <td>1538.349976</td>\n",
              "      <td>1475.949951</td>\n",
              "      <td>1520.349976</td>\n",
              "      <td>1509.805786</td>\n",
              "      <td>18434012.0</td>\n",
              "    </tr>\n",
              "    <tr>\n",
              "      <th>1225</th>\n",
              "      <td>2020-06-02</td>\n",
              "      <td>1526.0</td>\n",
              "      <td>1540.000000</td>\n",
              "      <td>1520.800049</td>\n",
              "      <td>1535.699951</td>\n",
              "      <td>1525.049194</td>\n",
              "      <td>10224049.0</td>\n",
              "    </tr>\n",
              "    <tr>\n",
              "      <th>1226</th>\n",
              "      <td>2020-06-03</td>\n",
              "      <td>1545.0</td>\n",
              "      <td>1560.000000</td>\n",
              "      <td>1533.349976</td>\n",
              "      <td>1541.650024</td>\n",
              "      <td>1530.958008</td>\n",
              "      <td>11713461.0</td>\n",
              "    </tr>\n",
              "    <tr>\n",
              "      <th>1227</th>\n",
              "      <td>2020-06-04</td>\n",
              "      <td>1544.0</td>\n",
              "      <td>1589.500000</td>\n",
              "      <td>1541.000000</td>\n",
              "      <td>1579.800049</td>\n",
              "      <td>1568.843506</td>\n",
              "      <td>15784379.0</td>\n",
              "    </tr>\n",
              "    <tr>\n",
              "      <th>1228</th>\n",
              "      <td>2020-06-05</td>\n",
              "      <td>1595.0</td>\n",
              "      <td>1618.000000</td>\n",
              "      <td>1573.699951</td>\n",
              "      <td>1581.699951</td>\n",
              "      <td>1570.730225</td>\n",
              "      <td>15264885.0</td>\n",
              "    </tr>\n",
              "  </tbody>\n",
              "</table>\n",
              "</div>"
            ],
            "text/plain": [
              "            Date    Open         High  ...        Close    Adj Close      Volume\n",
              "1224  2020-06-01  1480.0  1538.349976  ...  1520.349976  1509.805786  18434012.0\n",
              "1225  2020-06-02  1526.0  1540.000000  ...  1535.699951  1525.049194  10224049.0\n",
              "1226  2020-06-03  1545.0  1560.000000  ...  1541.650024  1530.958008  11713461.0\n",
              "1227  2020-06-04  1544.0  1589.500000  ...  1579.800049  1568.843506  15784379.0\n",
              "1228  2020-06-05  1595.0  1618.000000  ...  1581.699951  1570.730225  15264885.0\n",
              "\n",
              "[5 rows x 7 columns]"
            ]
          },
          "metadata": {},
          "execution_count": 11
        }
      ]
    },
    {
      "cell_type": "code",
      "metadata": {
        "id": "5dNrnTu9FGzu"
      },
      "source": [
        "\n",
        "df_close = df['Close']"
      ],
      "execution_count": 12,
      "outputs": []
    },
    {
      "cell_type": "code",
      "metadata": {
        "colab": {
          "base_uri": "https://localhost:8080/"
        },
        "id": "M69ql9G5FG2E",
        "outputId": "af4f22c8-ca99-40a5-e925-4517fe067bb6"
      },
      "source": [
        "\n",
        "df_close.shape"
      ],
      "execution_count": 13,
      "outputs": [
        {
          "output_type": "execute_result",
          "data": {
            "text/plain": [
              "(1228,)"
            ]
          },
          "metadata": {},
          "execution_count": 13
        }
      ]
    },
    {
      "cell_type": "code",
      "metadata": {
        "colab": {
          "base_uri": "https://localhost:8080/",
          "height": 282
        },
        "id": "jdbkbo9zFG5A",
        "outputId": "bf0c41b0-66a4-4cb7-e234-59625b64fd29"
      },
      "source": [
        "plt.plot(df_close)"
      ],
      "execution_count": 14,
      "outputs": [
        {
          "output_type": "execute_result",
          "data": {
            "text/plain": [
              "[<matplotlib.lines.Line2D at 0x7f95f80c7650>]"
            ]
          },
          "metadata": {},
          "execution_count": 14
        },
        {
          "output_type": "display_data",
          "data": {
            "image/png": "[encoded data removed]",
            "text/plain": [
              "<Figure size 432x288 with 1 Axes>"
            ]
          },
          "metadata": {
            "needs_background": "light"
          }
        }
      ]
    },
    {
      "cell_type": "code",
      "metadata": {
        "id": "R4qcRifbFG7q"
      },
      "source": [
        "scaler = MinMaxScaler(feature_range = (0,1))\n",
        "df_close = scaler.fit_transform(np.array(df_close).reshape(-1,1))"
      ],
      "execution_count": 15,
      "outputs": []
    },
    {
      "cell_type": "code",
      "metadata": {
        "colab": {
          "base_uri": "https://localhost:8080/"
        },
        "id": "e80yry92FG-a",
        "outputId": "7856f68c-8e1f-46ea-e5cd-4f87e50418cb"
      },
      "source": [
        "df_close.shape"
      ],
      "execution_count": 16,
      "outputs": [
        {
          "output_type": "execute_result",
          "data": {
            "text/plain": [
              "(1228, 1)"
            ]
          },
          "metadata": {},
          "execution_count": 16
        }
      ]
    },
    {
      "cell_type": "code",
      "metadata": {
        "colab": {
          "base_uri": "https://localhost:8080/"
        },
        "id": "npaX4OkdFHBE",
        "outputId": "cf1a796e-21fb-4fc8-e0ad-5e74900cbadb"
      },
      "source": [
        "\n",
        "\n",
        "\n",
        "df_close"
      ],
      "execution_count": 17,
      "outputs": [
        {
          "output_type": "execute_result",
          "data": {
            "text/plain": [
              "array([[0.02338568],\n",
              "       [0.02265356],\n",
              "       [0.03189909],\n",
              "       ...,\n",
              "       [0.95508044],\n",
              "       [0.98730304],\n",
              "       [0.98890775]])"
            ]
          },
          "metadata": {},
          "execution_count": 17
        }
      ]
    },
    {
      "cell_type": "code",
      "metadata": {
        "id": "AzPLjQjMFHDs"
      },
      "source": [
        "#Split the data into train and test split\n",
        "training_size = int(len(df_close) * 0.75)\n",
        "test_size = len(df_close) - training_size\n",
        "train_data, test_data = df_close[0:training_size,:], df_close[training_size:len(df_close),:1]"
      ],
      "execution_count": 18,
      "outputs": []
    },
    {
      "cell_type": "code",
      "metadata": {
        "id": "ap8mtSDaFHGW"
      },
      "source": [
        "def create_dataset(dataset, time_step = 1):\n",
        "    dataX, dataY = [], []\n",
        "    for i in range(len(dataset) - time_step - 1):\n",
        "        a = dataset[i:(i+time_step), 0]\n",
        "        dataX.append(a)\n",
        "        dataY.append(dataset[i+time_step, 0])\n",
        "    return np.array(dataX), np.array(dataY)"
      ],
      "execution_count": 21,
      "outputs": []
    },
    {
      "cell_type": "code",
      "metadata": {
        "id": "vjB5VZbqFHI_"
      },
      "source": [
        "time_step = 100\n",
        "x_train, y_train = create_dataset(train_data, time_step)\n",
        "x_test, y_test = create_dataset(test_data, time_step)"
      ],
      "execution_count": 22,
      "outputs": []
    },
    {
      "cell_type": "code",
      "metadata": {
        "id": "K5W3AGRWFHLU"
      },
      "source": [
        "#Reshape the input to be [samples, time steps, features] which is the requirement of LSTM\n",
        "x_train = x_train.reshape(x_train.shape[0], x_train.shape[1], 1)\n",
        "x_test = x_test.reshape(x_test.shape[0], x_test.shape[1], 1)\n"
      ],
      "execution_count": 23,
      "outputs": []
    },
    {
      "cell_type": "code",
      "metadata": {
        "id": "DKG6EgdCFHO4"
      },
      "source": [
        "\n",
        "#Create the LSTM Model\n",
        "model = Sequential()\n",
        "model.add(LSTM(50, return_sequences = True, input_shape = (100,1)))\n",
        "model.add(LSTM(50, return_sequences = True))\n",
        "model.add(LSTM(50))\n",
        "model.add(Dense(1))\n",
        "model.compile(loss = 'mean_squared_error', optimizer = 'adam')"
      ],
      "execution_count": 24,
      "outputs": []
    },
    {
      "cell_type": "code",
      "metadata": {
        "colab": {
          "base_uri": "https://localhost:8080/"
        },
        "id": "IoRqcz4DFHYv",
        "outputId": "f41644ea-4cfc-46ba-d132-518c68048441"
      },
      "source": [
        "model.summary()"
      ],
      "execution_count": 25,
      "outputs": [
        {
          "output_type": "stream",
          "name": "stdout",
          "text": [
            "Model: \"sequential\"\n",
            "_________________________________________________________________\n",
            "Layer (type)                 Output Shape              Param #   \n",
            "=================================================================\n",
            "lstm (LSTM)                  (None, 100, 50)           10400     \n",
            "_________________________________________________________________\n",
            "lstm_1 (LSTM)                (None, 100, 50)           20200     \n",
            "_________________________________________________________________\n",
            "lstm_2 (LSTM)                (None, 50)                20200     \n",
            "_________________________________________________________________\n",
            "dense (Dense)                (None, 1)                 51        \n",
            "=================================================================\n",
            "Total params: 50,851\n",
            "Trainable params: 50,851\n",
            "Non-trainable params: 0\n",
            "_________________________________________________________________\n"
          ]
        }
      ]
    },
    {
      "cell_type": "code",
      "metadata": {
        "colab": {
          "base_uri": "https://localhost:8080/"
        },
        "id": "s3pC7fnFFHbu",
        "outputId": "0112da7e-6361-4462-9fe1-186ec664e3db"
      },
      "source": [
        "model.fit(x_train, y_train, validation_data = (x_test, y_test), epochs = 100, batch_size = 64, verbose = 1)"
      ],
      "execution_count": 26,
      "outputs": [
        {
          "output_type": "stream",
          "name": "stdout",
          "text": [
            "Epoch 1/100\n",
            "13/13 [==============================] - 13s 437ms/step - loss: 0.0498 - val_loss: 0.0223\n",
            "Epoch 2/100\n",
            "13/13 [==============================] - 5s 375ms/step - loss: 0.0085 - val_loss: 0.0102\n",
            "Epoch 3/100\n",
            "13/13 [==============================] - 5s 383ms/step - loss: 0.0029 - val_loss: 0.0090\n",
            "Epoch 4/100\n",
            "13/13 [==============================] - 5s 379ms/step - loss: 0.0013 - val_loss: 0.0089\n",
            "Epoch 5/100\n",
            "13/13 [==============================] - 5s 384ms/step - loss: 0.0011 - val_loss: 0.0086\n",
            "Epoch 6/100\n",
            "13/13 [==============================] - 6s 443ms/step - loss: 9.8411e-04 - val_loss: 0.0083\n",
            "Epoch 7/100\n",
            "13/13 [==============================] - 6s 454ms/step - loss: 9.2820e-04 - val_loss: 0.0082\n",
            "Epoch 8/100\n",
            "13/13 [==============================] - 5s 393ms/step - loss: 9.4517e-04 - val_loss: 0.0080\n",
            "Epoch 9/100\n",
            "13/13 [==============================] - 5s 378ms/step - loss: 8.8548e-04 - val_loss: 0.0081\n",
            "Epoch 10/100\n",
            "13/13 [==============================] - 5s 377ms/step - loss: 8.6613e-04 - val_loss: 0.0076\n",
            "Epoch 11/100\n",
            "13/13 [==============================] - 5s 381ms/step - loss: 8.5303e-04 - val_loss: 0.0076\n",
            "Epoch 12/100\n",
            "13/13 [==============================] - 5s 381ms/step - loss: 8.4199e-04 - val_loss: 0.0075\n",
            "Epoch 13/100\n",
            "13/13 [==============================] - 5s 374ms/step - loss: 8.3422e-04 - val_loss: 0.0078\n",
            "Epoch 14/100\n",
            "13/13 [==============================] - 5s 377ms/step - loss: 8.0617e-04 - val_loss: 0.0072\n",
            "Epoch 15/100\n",
            "13/13 [==============================] - 5s 382ms/step - loss: 8.1034e-04 - val_loss: 0.0070\n",
            "Epoch 16/100\n",
            "13/13 [==============================] - 5s 378ms/step - loss: 8.4874e-04 - val_loss: 0.0091\n",
            "Epoch 17/100\n",
            "13/13 [==============================] - 5s 373ms/step - loss: 8.3207e-04 - val_loss: 0.0092\n",
            "Epoch 18/100\n",
            "13/13 [==============================] - 5s 376ms/step - loss: 8.4414e-04 - val_loss: 0.0074\n",
            "Epoch 19/100\n",
            "13/13 [==============================] - 5s 375ms/step - loss: 7.4317e-04 - val_loss: 0.0074\n",
            "Epoch 20/100\n",
            "13/13 [==============================] - 5s 392ms/step - loss: 7.4068e-04 - val_loss: 0.0073\n",
            "Epoch 21/100\n",
            "13/13 [==============================] - 5s 380ms/step - loss: 7.3121e-04 - val_loss: 0.0068\n",
            "Epoch 22/100\n",
            "13/13 [==============================] - 5s 384ms/step - loss: 7.2866e-04 - val_loss: 0.0062\n",
            "Epoch 23/100\n",
            "13/13 [==============================] - 5s 373ms/step - loss: 7.0715e-04 - val_loss: 0.0070\n",
            "Epoch 24/100\n",
            "13/13 [==============================] - 5s 388ms/step - loss: 7.0367e-04 - val_loss: 0.0059\n",
            "Epoch 25/100\n",
            "13/13 [==============================] - 5s 375ms/step - loss: 7.0481e-04 - val_loss: 0.0061\n",
            "Epoch 26/100\n",
            "13/13 [==============================] - 5s 373ms/step - loss: 6.9397e-04 - val_loss: 0.0065\n",
            "Epoch 27/100\n",
            "13/13 [==============================] - 5s 379ms/step - loss: 6.7445e-04 - val_loss: 0.0055\n",
            "Epoch 28/100\n",
            "13/13 [==============================] - 5s 379ms/step - loss: 7.7243e-04 - val_loss: 0.0081\n",
            "Epoch 29/100\n",
            "13/13 [==============================] - 5s 382ms/step - loss: 8.0159e-04 - val_loss: 0.0053\n",
            "Epoch 30/100\n",
            "13/13 [==============================] - 5s 397ms/step - loss: 7.2452e-04 - val_loss: 0.0054\n",
            "Epoch 31/100\n",
            "13/13 [==============================] - 5s 378ms/step - loss: 7.6405e-04 - val_loss: 0.0062\n",
            "Epoch 32/100\n",
            "13/13 [==============================] - 5s 376ms/step - loss: 6.7274e-04 - val_loss: 0.0048\n",
            "Epoch 33/100\n",
            "13/13 [==============================] - 5s 388ms/step - loss: 6.4722e-04 - val_loss: 0.0050\n",
            "Epoch 34/100\n",
            "13/13 [==============================] - 5s 379ms/step - loss: 6.4866e-04 - val_loss: 0.0071\n",
            "Epoch 35/100\n",
            "13/13 [==============================] - 5s 390ms/step - loss: 6.2385e-04 - val_loss: 0.0044\n",
            "Epoch 36/100\n",
            "13/13 [==============================] - 5s 376ms/step - loss: 6.2429e-04 - val_loss: 0.0048\n",
            "Epoch 37/100\n",
            "13/13 [==============================] - 5s 375ms/step - loss: 6.1114e-04 - val_loss: 0.0059\n",
            "Epoch 38/100\n",
            "13/13 [==============================] - 5s 377ms/step - loss: 6.2991e-04 - val_loss: 0.0042\n",
            "Epoch 39/100\n",
            "13/13 [==============================] - 5s 375ms/step - loss: 6.0570e-04 - val_loss: 0.0050\n",
            "Epoch 40/100\n",
            "13/13 [==============================] - 5s 379ms/step - loss: 5.8796e-04 - val_loss: 0.0039\n",
            "Epoch 41/100\n",
            "13/13 [==============================] - 5s 379ms/step - loss: 6.6407e-04 - val_loss: 0.0059\n",
            "Epoch 42/100\n",
            "13/13 [==============================] - 5s 377ms/step - loss: 6.4056e-04 - val_loss: 0.0051\n",
            "Epoch 43/100\n",
            "13/13 [==============================] - 5s 375ms/step - loss: 6.0571e-04 - val_loss: 0.0041\n",
            "Epoch 44/100\n",
            "13/13 [==============================] - 5s 382ms/step - loss: 5.9918e-04 - val_loss: 0.0041\n",
            "Epoch 45/100\n",
            "13/13 [==============================] - 5s 386ms/step - loss: 5.9882e-04 - val_loss: 0.0044\n",
            "Epoch 46/100\n",
            "13/13 [==============================] - 5s 382ms/step - loss: 5.8106e-04 - val_loss: 0.0043\n",
            "Epoch 47/100\n",
            "13/13 [==============================] - 5s 376ms/step - loss: 5.4148e-04 - val_loss: 0.0037\n",
            "Epoch 48/100\n",
            "13/13 [==============================] - 5s 384ms/step - loss: 5.3878e-04 - val_loss: 0.0036\n",
            "Epoch 49/100\n",
            "13/13 [==============================] - 5s 378ms/step - loss: 5.7642e-04 - val_loss: 0.0034\n",
            "Epoch 50/100\n",
            "13/13 [==============================] - 5s 386ms/step - loss: 7.6184e-04 - val_loss: 0.0060\n",
            "Epoch 51/100\n",
            "13/13 [==============================] - 5s 378ms/step - loss: 5.3085e-04 - val_loss: 0.0036\n",
            "Epoch 52/100\n",
            "13/13 [==============================] - 5s 376ms/step - loss: 5.8111e-04 - val_loss: 0.0061\n",
            "Epoch 53/100\n",
            "13/13 [==============================] - 5s 378ms/step - loss: 5.9190e-04 - val_loss: 0.0032\n",
            "Epoch 54/100\n",
            "13/13 [==============================] - 5s 376ms/step - loss: 5.5402e-04 - val_loss: 0.0043\n",
            "Epoch 55/100\n",
            "13/13 [==============================] - 5s 388ms/step - loss: 5.1243e-04 - val_loss: 0.0049\n",
            "Epoch 56/100\n",
            "13/13 [==============================] - 5s 377ms/step - loss: 5.6096e-04 - val_loss: 0.0032\n",
            "Epoch 57/100\n",
            "13/13 [==============================] - 5s 379ms/step - loss: 5.7717e-04 - val_loss: 0.0046\n",
            "Epoch 58/100\n",
            "13/13 [==============================] - 5s 374ms/step - loss: 5.5937e-04 - val_loss: 0.0036\n",
            "Epoch 59/100\n",
            "13/13 [==============================] - 5s 379ms/step - loss: 5.6723e-04 - val_loss: 0.0033\n",
            "Epoch 60/100\n",
            "13/13 [==============================] - 5s 377ms/step - loss: 5.3677e-04 - val_loss: 0.0059\n",
            "Epoch 61/100\n",
            "13/13 [==============================] - 5s 382ms/step - loss: 6.1806e-04 - val_loss: 0.0045\n",
            "Epoch 62/100\n",
            "13/13 [==============================] - 5s 376ms/step - loss: 5.1745e-04 - val_loss: 0.0033\n",
            "Epoch 63/100\n",
            "13/13 [==============================] - 5s 375ms/step - loss: 5.0518e-04 - val_loss: 0.0040\n",
            "Epoch 64/100\n",
            "13/13 [==============================] - 5s 383ms/step - loss: 4.8582e-04 - val_loss: 0.0033\n",
            "Epoch 65/100\n",
            "13/13 [==============================] - 5s 385ms/step - loss: 5.1301e-04 - val_loss: 0.0048\n",
            "Epoch 66/100\n",
            "13/13 [==============================] - 5s 377ms/step - loss: 5.2424e-04 - val_loss: 0.0030\n",
            "Epoch 67/100\n",
            "13/13 [==============================] - 5s 377ms/step - loss: 5.0032e-04 - val_loss: 0.0043\n",
            "Epoch 68/100\n",
            "13/13 [==============================] - 5s 382ms/step - loss: 4.8953e-04 - val_loss: 0.0034\n",
            "Epoch 69/100\n",
            "13/13 [==============================] - 5s 379ms/step - loss: 5.0668e-04 - val_loss: 0.0047\n",
            "Epoch 70/100\n",
            "13/13 [==============================] - 5s 387ms/step - loss: 4.8019e-04 - val_loss: 0.0025\n",
            "Epoch 71/100\n",
            "13/13 [==============================] - 5s 374ms/step - loss: 6.5166e-04 - val_loss: 0.0040\n",
            "Epoch 72/100\n",
            "13/13 [==============================] - 5s 379ms/step - loss: 5.2008e-04 - val_loss: 0.0033\n",
            "Epoch 73/100\n",
            "13/13 [==============================] - 5s 383ms/step - loss: 4.7345e-04 - val_loss: 0.0040\n",
            "Epoch 74/100\n",
            "13/13 [==============================] - 5s 379ms/step - loss: 4.8382e-04 - val_loss: 0.0028\n",
            "Epoch 75/100\n",
            "13/13 [==============================] - 5s 374ms/step - loss: 4.7164e-04 - val_loss: 0.0042\n",
            "Epoch 76/100\n",
            "13/13 [==============================] - 5s 390ms/step - loss: 4.7766e-04 - val_loss: 0.0025\n",
            "Epoch 77/100\n",
            "13/13 [==============================] - 5s 379ms/step - loss: 4.8363e-04 - val_loss: 0.0033\n",
            "Epoch 78/100\n",
            "13/13 [==============================] - 5s 383ms/step - loss: 4.6405e-04 - val_loss: 0.0042\n",
            "Epoch 79/100\n",
            "13/13 [==============================] - 5s 384ms/step - loss: 4.6618e-04 - val_loss: 0.0023\n",
            "Epoch 80/100\n",
            "13/13 [==============================] - 5s 383ms/step - loss: 4.8453e-04 - val_loss: 0.0025\n",
            "Epoch 81/100\n",
            "13/13 [==============================] - 5s 376ms/step - loss: 4.7364e-04 - val_loss: 0.0034\n",
            "Epoch 82/100\n",
            "13/13 [==============================] - 5s 388ms/step - loss: 4.4339e-04 - val_loss: 0.0031\n",
            "Epoch 83/100\n",
            "13/13 [==============================] - 5s 378ms/step - loss: 4.4889e-04 - val_loss: 0.0038\n",
            "Epoch 84/100\n",
            "13/13 [==============================] - 5s 382ms/step - loss: 4.7554e-04 - val_loss: 0.0042\n",
            "Epoch 85/100\n",
            "13/13 [==============================] - 5s 384ms/step - loss: 5.0347e-04 - val_loss: 0.0021\n",
            "Epoch 86/100\n",
            "13/13 [==============================] - 5s 380ms/step - loss: 4.3953e-04 - val_loss: 0.0040\n",
            "Epoch 87/100\n",
            "13/13 [==============================] - 5s 377ms/step - loss: 4.4238e-04 - val_loss: 0.0027\n",
            "Epoch 88/100\n",
            "13/13 [==============================] - 5s 381ms/step - loss: 4.2715e-04 - val_loss: 0.0031\n",
            "Epoch 89/100\n",
            "13/13 [==============================] - 5s 378ms/step - loss: 4.4302e-04 - val_loss: 0.0028\n",
            "Epoch 90/100\n",
            "13/13 [==============================] - 5s 387ms/step - loss: 4.3627e-04 - val_loss: 0.0027\n",
            "Epoch 91/100\n",
            "13/13 [==============================] - 5s 376ms/step - loss: 4.4368e-04 - val_loss: 0.0029\n",
            "Epoch 92/100\n",
            "13/13 [==============================] - 5s 377ms/step - loss: 4.5319e-04 - val_loss: 0.0041\n",
            "Epoch 93/100\n",
            "13/13 [==============================] - 5s 380ms/step - loss: 5.1587e-04 - val_loss: 0.0024\n",
            "Epoch 94/100\n",
            "13/13 [==============================] - 5s 381ms/step - loss: 4.1781e-04 - val_loss: 0.0021\n",
            "Epoch 95/100\n",
            "13/13 [==============================] - 5s 385ms/step - loss: 4.0428e-04 - val_loss: 0.0026\n",
            "Epoch 96/100\n",
            "13/13 [==============================] - 5s 382ms/step - loss: 4.1358e-04 - val_loss: 0.0020\n",
            "Epoch 97/100\n",
            "13/13 [==============================] - 5s 381ms/step - loss: 4.1208e-04 - val_loss: 0.0045\n",
            "Epoch 98/100\n",
            "13/13 [==============================] - 5s 375ms/step - loss: 5.1342e-04 - val_loss: 0.0020\n",
            "Epoch 99/100\n",
            "13/13 [==============================] - 5s 375ms/step - loss: 5.3109e-04 - val_loss: 0.0018\n",
            "Epoch 100/100\n",
            "13/13 [==============================] - 5s 375ms/step - loss: 4.7007e-04 - val_loss: 0.0046\n"
          ]
        },
        {
          "output_type": "execute_result",
          "data": {
            "text/plain": [
              "<tensorflow.python.keras.callbacks.History at 0x7f95f3805910>"
            ]
          },
          "metadata": {},
          "execution_count": 26
        }
      ]
    },
    {
      "cell_type": "code",
      "metadata": {
        "id": "mR6MisbMFHee"
      },
      "source": [
        "#Lets predict and check performance metrics\n",
        "train_predict = model.predict(x_train)\n",
        "test_predict = model.predict(x_test)"
      ],
      "execution_count": 27,
      "outputs": []
    },
    {
      "cell_type": "code",
      "metadata": {
        "id": "XasS3uIXFHg6"
      },
      "source": [
        "#Transform back to original form\n",
        "train_predict = scaler.inverse_transform(train_predict)\n",
        "test_predict = scaler.inverse_transform(test_predict)"
      ],
      "execution_count": null,
      "outputs": []
    },
    {
      "cell_type": "code",
      "metadata": {
        "id": "kSbNPERKFHjO"
      },
      "source": [
        "#Calculate RMSE performance metrics\n",
        "math.sqrt(mean_squared_error(y_train, train_predict))"
      ],
      "execution_count": null,
      "outputs": []
    },
    {
      "cell_type": "code",
      "metadata": {
        "id": "SHYIU3sbFHlh"
      },
      "source": [
        "#Test Data RMSE\n",
        "math.sqrt(mean_squared_error(y_test, test_predict))"
      ],
      "execution_count": null,
      "outputs": []
    },
    {
      "cell_type": "code",
      "metadata": {
        "id": "UOn6lo2oFHoH"
      },
      "source": [
        "#Plotting\n",
        "\n",
        "#Shift train prediction for plotting\n",
        "look_back = 100\n",
        "trainPredictPlot = np.empty_like(df_close)\n",
        "trainPredictPlot[:,:] = np.nan\n",
        "trainPredictPlot[look_back:len(train_predict) + look_back, :] = train_predict\n",
        "\n",
        "#Shift test prediction for plotting\n",
        "testPredictPlot = np.empty_like(df_close)\n",
        "testPredictPlot[:,:] = np.nan\n",
        "testPredictPlot[len(train_predict) + (look_back * 2)+1:len(df_close) - 1, :] = test_predict\n",
        "\n",
        "#Plot baseline and predictions\n",
        "plt.plot(scaler.inverse_transform(df_close))\n",
        "plt.plot(trainPredictPlot)\n",
        "plt.plot(testPredictPlot)\n",
        "plt.show()"
      ],
      "execution_count": null,
      "outputs": []
    },
    {
      "cell_type": "markdown",
      "metadata": {
        "id": "IV3Qh_8UKVnI"
      },
      "source": [
        "Predict next 30 day's stock price"
      ]
    },
    {
      "cell_type": "code",
      "metadata": {
        "id": "Ad9UTMh-FHqt"
      },
      "source": [
        "\n",
        "len(test_data), x_test.shape"
      ],
      "execution_count": null,
      "outputs": []
    },
    {
      "cell_type": "code",
      "metadata": {
        "id": "JIvRVl7VFHtX"
      },
      "source": [
        "x_input = test_data[207:].reshape(1,-1)\n",
        "x_input.shape"
      ],
      "execution_count": null,
      "outputs": []
    },
    {
      "cell_type": "code",
      "metadata": {
        "id": "899pljjYFHwV"
      },
      "source": [
        "temp_input = list(x_input)\n",
        "temp_input = temp_input[0].tolist()"
      ],
      "execution_count": null,
      "outputs": []
    },
    {
      "cell_type": "code",
      "metadata": {
        "id": "SHuI7ysRFHzk"
      },
      "source": [
        "lst_output=[]\n",
        "n_steps=100\n",
        "nextNumberOfDays = 30\n",
        "i=0\n",
        "\n",
        "while(i<nextNumberOfDays):\n",
        "    \n",
        "    if(len(temp_input)>100):\n",
        "        x_input=np.array(temp_input[1:])\n",
        "        print(\"{} day input {}\".format(i,x_input))\n",
        "        x_input=x_input.reshape(1,-1)\n",
        "        x_input = x_input.reshape((1, n_steps, 1))\n",
        "        yhat = model.predict(x_input, verbose=0)\n",
        "        print(\"{} day output {}\".format(i,yhat))\n",
        "        temp_input.extend(yhat[0].tolist())\n",
        "        temp_input=temp_input[1:]\n",
        "        lst_output.extend(yhat.tolist())\n",
        "        i=i+1\n",
        "    else:\n",
        "        x_input = x_input.reshape((1, n_steps,1))\n",
        "        yhat = model.predict(x_input, verbose=0)\n",
        "        print(yhat[0])\n",
        "        temp_input.extend(yhat[0].tolist())\n",
        "        print(len(temp_input))\n",
        "        lst_output.extend(yhat.tolist())\n",
        "        i=i+1\n",
        "    \n",
        "\n",
        "print(lst_output)"
      ],
      "execution_count": null,
      "outputs": []
    },
    {
      "cell_type": "code",
      "metadata": {
        "id": "80--8ZNnFH2T"
      },
      "source": [
        "day_new = np.arange(1,101)\n",
        "day_pred = np.arange(101,131)"
      ],
      "execution_count": null,
      "outputs": []
    },
    {
      "cell_type": "code",
      "metadata": {
        "id": "T_uQywGUFH5X"
      },
      "source": [
        "\n",
        "df3 = df_close.tolist()\n",
        "df3.extend(lst_output)"
      ],
      "execution_count": null,
      "outputs": []
    },
    {
      "cell_type": "code",
      "metadata": {
        "id": "dr9w_R_TFH8K"
      },
      "source": [
        "len(df_close)"
      ],
      "execution_count": null,
      "outputs": []
    },
    {
      "cell_type": "code",
      "metadata": {
        "id": "lP9Mh6ZAFH-4"
      },
      "source": [
        "plt.plot(day_new, scaler.inverse_transform(df_close[1128:]))\n",
        "plt.plot(day_pred, scaler.inverse_transform(lst_output))"
      ],
      "execution_count": null,
      "outputs": []
    },
    {
      "cell_type": "code",
      "metadata": {
        "id": "PHhs3T60FIBp"
      },
      "source": [
        ""
      ],
      "execution_count": null,
      "outputs": []
    },
    {
      "cell_type": "code",
      "metadata": {
        "id": "kdcDiOMEFIE1"
      },
      "source": [
        ""
      ],
      "execution_count": null,
      "outputs": []
    },
    {
      "cell_type": "code",
      "metadata": {
        "id": "ks2p4I9eFIH6"
      },
      "source": [
        ""
      ],
      "execution_count": null,
      "outputs": []
    },
    {
      "cell_type": "code",
      "metadata": {
        "id": "Thtwy5jQFIKx"
      },
      "source": [
        ""
      ],
      "execution_count": null,
      "outputs": []
    },
    {
      "cell_type": "code",
      "metadata": {
        "id": "Gq3lBucJFINw"
      },
      "source": [
        ""
      ],
      "execution_count": null,
      "outputs": []
    },
    {
      "cell_type": "code",
      "metadata": {
        "id": "8zosKB_jFIQo"
      },
      "source": [
        ""
      ],
      "execution_count": null,
      "outputs": []
    },
    {
      "cell_type": "code",
      "metadata": {
        "id": "8xcauciKFIT1"
      },
      "source": [
        ""
      ],
      "execution_count": null,
      "outputs": []
    },
    {
      "cell_type": "code",
      "metadata": {
        "id": "SxvFe508FIWz"
      },
      "source": [
        ""
      ],
      "execution_count": null,
      "outputs": []
    },
    {
      "cell_type": "code",
      "metadata": {
        "id": "HQaMa35qFIZk"
      },
      "source": [
        ""
      ],
      "execution_count": null,
      "outputs": []
    },
    {
      "cell_type": "code",
      "metadata": {
        "id": "K-whjkAiFIci"
      },
      "source": [
        ""
      ],
      "execution_count": null,
      "outputs": []
    },
    {
      "cell_type": "code",
      "metadata": {
        "id": "eNtbQ2b6FIfg"
      },
      "source": [
        ""
      ],
      "execution_count": null,
      "outputs": []
    },
    {
      "cell_type": "code",
      "metadata": {
        "id": "NPwgR-dYFIiX"
      },
      "source": [
        ""
      ],
      "execution_count": null,
      "outputs": []
    },
    {
      "cell_type": "code",
      "metadata": {
        "id": "oRE8lxtqFIk0"
      },
      "source": [
        ""
      ],
      "execution_count": null,
      "outputs": []
    },
    {
      "cell_type": "code",
      "metadata": {
        "id": "W1XjnpYzFInj"
      },
      "source": [
        ""
      ],
      "execution_count": null,
      "outputs": []
    },
    {
      "cell_type": "code",
      "metadata": {
        "id": "nmYU9uZ1FIqM"
      },
      "source": [
        ""
      ],
      "execution_count": null,
      "outputs": []
    },
    {
      "cell_type": "code",
      "metadata": {
        "id": "7tyQIFmvFItR"
      },
      "source": [
        ""
      ],
      "execution_count": null,
      "outputs": []
    },
    {
      "cell_type": "code",
      "metadata": {
        "id": "RpiKJyKiFIvm"
      },
      "source": [
        ""
      ],
      "execution_count": null,
      "outputs": []
    },
    {
      "cell_type": "code",
      "metadata": {
        "id": "2YwdJCLHFIy5"
      },
      "source": [
        ""
      ],
      "execution_count": null,
      "outputs": []
    },
    {
      "cell_type": "code",
      "metadata": {
        "id": "tJHx8sUyFI2G"
      },
      "source": [
        ""
      ],
      "execution_count": null,
      "outputs": []
    },
    {
      "cell_type": "code",
      "metadata": {
        "id": "L7ESlYFTFI5T"
      },
      "source": [
        ""
      ],
      "execution_count": null,
      "outputs": []
    },
    {
      "cell_type": "code",
      "metadata": {
        "id": "F6KWVaVMFI8h"
      },
      "source": [
        ""
      ],
      "execution_count": null,
      "outputs": []
    },
    {
      "cell_type": "code",
      "metadata": {
        "id": "x27URUq0FJCG"
      },
      "source": [
        ""
      ],
      "execution_count": null,
      "outputs": []
    }
  ]
}